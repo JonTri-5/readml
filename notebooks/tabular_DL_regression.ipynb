{
 "cells": [
  {
   "cell_type": "markdown",
   "metadata": {},
   "source": [
    "# Regression with DL and tabular data"
   ]
  },
  {
   "cell_type": "markdown",
   "metadata": {},
   "source": [
    "**Author**: Jonathan TRICARD\n",
    "\n",
    "**Summary**: using a dataset propose by scikit-learn, we build a Basic Neural Network model to predict the price of a house. We then try to use intelligibility on the model with the the conditions tabular data in a case of a regression.\n",
    "\n",
    "**ExplainDL**: create a HTML report to have visualizations to explain how deep learning model works."
   ]
  },
  {
   "cell_type": "markdown",
   "metadata": {},
   "source": [
    "## Import libraries"
   ]
  },
  {
   "cell_type": "code",
   "execution_count": 23,
   "metadata": {
    "vscode": {
     "languageId": "python"
    }
   },
   "outputs": [],
   "source": [
    "import os\n",
    "import pandas as pd \n",
    "\n",
    "from sklearn.datasets import fetch_california_housing\n",
    "from sklearn.model_selection import train_test_split\n",
    "from sklearn.metrics  import mean_absolute_error, mean_squared_error, r2_score\n",
    "\n",
    "import tensorflow as tf\n",
    "from tensorflow.keras.models import Sequential\n",
    "from tensorflow.keras.layers import Dense\n",
    "\n",
    "from readml.logger import ROOT_DIR\n",
    "from readml.explainers.dl.explain_dl import ExplainDL"
   ]
  },
  {
   "cell_type": "markdown",
   "metadata": {},
   "source": [
    "**WARNING**: You absolutely need to use this before the training of the model and the run of ExplainDL in notebooks, if not it would produce an error when you run ```ExplainDL().explain_tabular()```."
   ]
  },
  {
   "cell_type": "code",
   "execution_count": 2,
   "metadata": {
    "vscode": {
     "languageId": "python"
    }
   },
   "outputs": [
    {
     "name": "stdout",
     "output_type": "stream",
     "text": [
      "WARNING:tensorflow:From /home/sihihi/.local/lib/python3.7/site-packages/tensorflow/python/compat/v2_compat.py:96: disable_resource_variables (from tensorflow.python.ops.variable_scope) is deprecated and will be removed in a future version.\n",
      "Instructions for updating:\n",
      "non-resource variables are not supported in the long term\n"
     ]
    }
   ],
   "source": [
    "tf.compat.v1.disable_v2_behavior()"
   ]
  },
  {
   "cell_type": "code",
   "execution_count": 3,
   "metadata": {
    "vscode": {
     "languageId": "python"
    }
   },
   "outputs": [
    {
     "name": "stdout",
     "output_type": "stream",
     "text": [
      "False\n"
     ]
    }
   ],
   "source": [
    "print(tf.executing_eagerly())\n",
    "assert tf.executing_eagerly() == False"
   ]
  },
  {
   "cell_type": "markdown",
   "metadata": {},
   "source": [
    "## Import data"
   ]
  },
  {
   "cell_type": "code",
   "execution_count": 4,
   "metadata": {
    "vscode": {
     "languageId": "python"
    }
   },
   "outputs": [],
   "source": [
    "def create_and_split_dataframe():\n",
    "    dict_data = fetch_california_housing()\n",
    "    X = pd.DataFrame(dict_data[\"data\"], columns=dict_data[\"feature_names\"])\n",
    "    y = pd.DataFrame(dict_data[\"target\"], columns=dict_data[\"target_names\"])\n",
    "    X_train, X_test, y_train, y_test = train_test_split(X, y, test_size=0.3, random_state=42)\n",
    "    df_train = X_train.copy()\n",
    "    df_train[y_train.columns.values[0]] = y_train\n",
    "    df_test = X_test.copy()\n",
    "    df_test[y_test.columns.values[0]] = y_test\n",
    "    return X_train, X_test, y_train, y_test, df_train, df_test"
   ]
  },
  {
   "cell_type": "code",
   "execution_count": 5,
   "metadata": {
    "vscode": {
     "languageId": "python"
    }
   },
   "outputs": [],
   "source": [
    "X_train, X_test, y_train, y_test, df_train, df_test = create_and_split_dataframe() "
   ]
  },
  {
   "cell_type": "markdown",
   "metadata": {},
   "source": [
    "## Train model"
   ]
  },
  {
   "cell_type": "code",
   "execution_count": 6,
   "metadata": {
    "vscode": {
     "languageId": "python"
    }
   },
   "outputs": [],
   "source": [
    "def baseline_model(input_dim):\n",
    "\tmodel = Sequential()\n",
    "\tmodel.add(Dense(13, input_dim=input_dim, kernel_initializer='normal', activation='relu'))\n",
    "\tmodel.add(Dense(1, kernel_initializer='normal'))\n",
    "\tmodel.compile(loss='mean_squared_error', optimizer='adam')\n",
    "\treturn model"
   ]
  },
  {
   "cell_type": "code",
   "execution_count": 7,
   "metadata": {
    "vscode": {
     "languageId": "python"
    }
   },
   "outputs": [
    {
     "name": "stdout",
     "output_type": "stream",
     "text": [
      "WARNING:tensorflow:From /home/sihihi/.local/lib/python3.7/site-packages/tensorflow/python/keras/initializers/initializers_v1.py:48: calling RandomNormal.__init__ (from tensorflow.python.ops.init_ops) with dtype is deprecated and will be removed in a future version.\n",
      "Instructions for updating:\n",
      "Call initializer instance with the dtype argument instead of passing it to the constructor\n",
      "Train on 14448 samples\n",
      "Epoch 1/5\n",
      "14448/14448 [==============================] - 1s 41us/sample - loss: 6.2324\n",
      "Epoch 2/5\n",
      "14448/14448 [==============================] - 0s 28us/sample - loss: 1.0118\n",
      "Epoch 3/5\n",
      "14448/14448 [==============================] - 0s 29us/sample - loss: 0.7782\n",
      "Epoch 4/5\n",
      "14448/14448 [==============================] - 0s 29us/sample - loss: 0.7599\n",
      "Epoch 5/5\n",
      "14448/14448 [==============================] - 0s 28us/sample - loss: 0.7115\n"
     ]
    },
    {
     "data": {
      "text/plain": [
       "<tensorflow.python.keras.callbacks.History at 0xffff1bbb0ba8>"
      ]
     },
     "execution_count": 7,
     "metadata": {},
     "output_type": "execute_result"
    }
   ],
   "source": [
    "model = baseline_model(X_train.shape[1])\n",
    "model.fit(X_train, y_train, epochs=5, batch_size=10)"
   ]
  },
  {
   "cell_type": "code",
   "execution_count": 8,
   "metadata": {
    "vscode": {
     "languageId": "python"
    }
   },
   "outputs": [
    {
     "name": "stderr",
     "output_type": "stream",
     "text": [
      "`Model.state_updates` will be removed in a future version. This property should not be used in TensorFlow 2.0, as `updates` are applied automatically.\n"
     ]
    }
   ],
   "source": [
    "y_pred_rnn = model.predict(X_test) "
   ]
  },
  {
   "cell_type": "code",
   "execution_count": 10,
   "metadata": {
    "vscode": {
     "languageId": "python"
    }
   },
   "outputs": [
    {
     "name": "stdout",
     "output_type": "stream",
     "text": [
      "MAE :  0.5816477473170628\n",
      "MSE :  0.6188115065627344\n",
      "R2 :  0.5285389734920842\n"
     ]
    }
   ],
   "source": [
    "mae_rnn = mean_absolute_error(y_test, y_pred_rnn)\n",
    "mse_rnn = mean_squared_error(y_test, y_pred_rnn)\n",
    "r2_rnn = r2_score(y_test, y_pred_rnn)\n",
    "\n",
    "print(\"MAE : \", mae_rnn)\n",
    "print(\"MSE : \", mse_rnn)\n",
    "print(\"R2 : \", r2_rnn)"
   ]
  },
  {
   "cell_type": "markdown",
   "metadata": {},
   "source": [
    "## Use intelligibility from readml"
   ]
  },
  {
   "cell_type": "markdown",
   "metadata": {},
   "source": [
    " **WARNINGS**: Take care of change de config_local.cfg to adapt it to the use case, you may need to re run ```pip install -e .``` after the change in the configuration."
   ]
  },
  {
   "cell_type": "code",
   "execution_count": 25,
   "metadata": {
    "vscode": {
     "languageId": "python"
    }
   },
   "outputs": [],
   "source": [
    "model_explain = model # The model you use\n",
    "task = \"regression\" # here we try to solve a regression problem\n",
    "features_name = list(X_train.columns) # all the features without de target column\n",
    "out_path = \"../outputs/notebooks/\" # the path where you want to save the report\n",
    "if \n",
    "os.makedirs(os.path.join(ROOT_DIR, out_path))"
   ]
  },
  {
   "cell_type": "markdown",
   "metadata": {},
   "source": [
    " If you just want to try it, take care of take only the ```.head()``` to have report on only a small part of the observation, because this would run and do intelligibility on each row you give to the ```.explain_tabular()``` method."
   ]
  },
  {
   "cell_type": "code",
   "execution_count": 26,
   "metadata": {
    "vscode": {
     "languageId": "python"
    }
   },
   "outputs": [],
   "source": [
    "exp = ExplainDL(\n",
    "                model=model_explain,\n",
    "                out_path=out_path,\n",
    "                )"
   ]
  },
  {
   "cell_type": "code",
   "execution_count": 27,
   "metadata": {
    "vscode": {
     "languageId": "python"
    }
   },
   "outputs": [
    {
     "name": "stderr",
     "output_type": "stream",
     "text": [
      "\u001b[1m \u001b[32m 2022-04-06 12:31:05,471 --- readml --- INFO --- Computing SHAP individual plots for 1th observation\u001b[0m\n",
      "\u001b[1m \u001b[32m 2022-04-06 12:31:05,475 --- readml --- INFO --- Computing SHAP individual plots for 2th observation\u001b[0m\n",
      "\u001b[1m \u001b[32m 2022-04-06 12:31:05,477 --- readml --- INFO --- Computing SHAP individual plots for 3th observation\u001b[0m\n",
      "\u001b[1m \u001b[32m 2022-04-06 12:31:05,480 --- readml --- INFO --- Computing SHAP individual plots for 4th observation\u001b[0m\n",
      "\u001b[1m \u001b[32m 2022-04-06 12:31:05,483 --- readml --- INFO --- Computing SHAP individual plots for 5th observation\u001b[0m\n",
      "\u001b[1m \u001b[32m 2022-04-06 12:31:05,485 --- readml --- INFO --- Saving SHAP individual plots for 1th observation in ../outputs/notebooks/\u001b[0m\n",
      "\u001b[1m \u001b[32m 2022-04-06 12:31:05,502 --- readml --- INFO --- Saving SHAP individual plots for 2th observation in ../outputs/notebooks/\u001b[0m\n",
      "\u001b[1m \u001b[32m 2022-04-06 12:31:05,517 --- readml --- INFO --- Saving SHAP individual plots for 3th observation in ../outputs/notebooks/\u001b[0m\n",
      "\u001b[1m \u001b[32m 2022-04-06 12:31:05,533 --- readml --- INFO --- Saving SHAP individual plots for 4th observation in ../outputs/notebooks/\u001b[0m\n",
      "\u001b[1m \u001b[32m 2022-04-06 12:31:05,547 --- readml --- INFO --- Saving SHAP individual plots for 5th observation in ../outputs/notebooks/\u001b[0m\n"
     ]
    }
   ],
   "source": [
    "exp.explain_tabular(\n",
    "                df_test.head(), # you need to use the dataframe with features and target into\n",
    "                features_name=features_name, \n",
    "                task_name=task,\n",
    "                )"
   ]
  },
  {
   "cell_type": "code",
   "execution_count": null,
   "metadata": {},
   "outputs": [],
   "source": []
  }
 ],
 "metadata": {
  "kernelspec": {
   "display_name": "Python 3",
   "language": "python",
   "name": "python3"
  },
  "language_info": {
   "codemirror_mode": {
    "name": "ipython",
    "version": 3
   },
   "file_extension": ".py",
   "mimetype": "text/x-python",
   "name": "python",
   "nbconvert_exporter": "python",
   "pygments_lexer": "ipython3",
   "version": "3.7.3"
  }
 },
 "nbformat": 4,
 "nbformat_minor": 4
}
