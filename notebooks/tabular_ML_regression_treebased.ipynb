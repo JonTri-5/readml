{
 "cells": [
  {
   "cell_type": "markdown",
   "metadata": {},
   "source": [
    "# Regression with ML, tabular data and tree based"
   ]
  },
  {
   "cell_type": "markdown",
   "metadata": {},
   "source": [
    "**Author**: Jonathan TRICARD\n",
    "\n",
    "**Summary**: using a dataset propose by scikit-learn, we build an Random Forest model to predict the price of a house. Then we try to use intelligibility on the model with the the conditions tabular data and tree based.\n",
    "\n",
    "**ExplainML**: create a HTML report to have visualizations to explain how machine learning model works."
   ]
  },
  {
   "cell_type": "markdown",
   "metadata": {},
   "source": [
    "## Import libraries"
   ]
  },
  {
   "cell_type": "code",
   "execution_count": 4,
   "metadata": {
    "vscode": {
     "languageId": "python"
    }
   },
   "outputs": [],
   "source": [
    "import pandas as pd \n",
    "\n",
    "from sklearn.datasets import fetch_california_housing\n",
    "from sklearn.ensemble import RandomForestRegressor\n",
    "from sklearn.model_selection import train_test_split\n",
    "from sklearn.metrics  import mean_absolute_error, mean_squared_error, r2_score\n",
    "\n",
    "from readml.logger import ROOT_DIR\n",
    "from readml.explainers.ml.explain_ml import ExplainML "
   ]
  },
  {
   "cell_type": "markdown",
   "metadata": {},
   "source": [
    "## Import data"
   ]
  },
  {
   "cell_type": "code",
   "execution_count": 5,
   "metadata": {
    "vscode": {
     "languageId": "python"
    }
   },
   "outputs": [],
   "source": [
    "def create_and_split_dataframe():\n",
    "    dict_data = fetch_california_housing()\n",
    "    X = pd.DataFrame(dict_data[\"data\"], columns=dict_data[\"feature_names\"])\n",
    "    y = pd.DataFrame(dict_data[\"target\"], columns=dict_data[\"target_names\"])\n",
    "    X_train, X_test, y_train, y_test = train_test_split(X, y, test_size=0.3, random_state=42)\n",
    "    df_train = X_train.copy()\n",
    "    df_train[y_train.columns.values[0]] = y_train\n",
    "    df_test = X_test.copy()\n",
    "    df_test[y_test.columns.values[0]] = y_test\n",
    "    return X_train, X_test, y_train, y_test, df_train, df_test"
   ]
  },
  {
   "cell_type": "code",
   "execution_count": 6,
   "metadata": {
    "vscode": {
     "languageId": "python"
    }
   },
   "outputs": [],
   "source": [
    "X_train, X_test, y_train, y_test, df_train, df_test = create_and_split_dataframe() "
   ]
  },
  {
   "cell_type": "markdown",
   "metadata": {},
   "source": [
    "## Train model"
   ]
  },
  {
   "cell_type": "code",
   "execution_count": 7,
   "metadata": {},
   "outputs": [
    {
     "name": "stderr",
     "output_type": "stream",
     "text": [
      "/home/sihihi/.local/lib/python3.7/site-packages/ipykernel_launcher.py:2: DataConversionWarning:\n",
      "\n",
      "A column-vector y was passed when a 1d array was expected. Please change the shape of y to (n_samples,), for example using ravel().\n",
      "\n"
     ]
    },
    {
     "data": {
      "text/plain": [
       "RandomForestRegressor(max_depth=2, random_state=42)"
      ]
     },
     "execution_count": 7,
     "metadata": {},
     "output_type": "execute_result"
    }
   ],
   "source": [
    "rf = RandomForestRegressor(max_depth=2, random_state=42)\n",
    "rf.fit(X_train, y_train)"
   ]
  },
  {
   "cell_type": "code",
   "execution_count": 8,
   "metadata": {
    "vscode": {
     "languageId": "python"
    }
   },
   "outputs": [],
   "source": [
    "y_pred = rf.predict(X_test) "
   ]
  },
  {
   "cell_type": "code",
   "execution_count": 9,
   "metadata": {
    "vscode": {
     "languageId": "python"
    }
   },
   "outputs": [
    {
     "name": "stdout",
     "output_type": "stream",
     "text": [
      "MAE :  0.6455534379282315\n",
      "MSE :  0.7189777402806168\n",
      "R2 :  0.45222417509349133\n"
     ]
    }
   ],
   "source": [
    "mae_rf = mean_absolute_error(y_test, y_pred)\n",
    "mse_rf = mean_squared_error(y_test, y_pred)\n",
    "r2_rf = r2_score(y_test, y_pred)\n",
    "\n",
    "print(\"MAE : \", mae_rf)\n",
    "print(\"MSE : \", mse_rf)\n",
    "print(\"R2 : \", r2_rf)"
   ]
  },
  {
   "cell_type": "markdown",
   "metadata": {},
   "source": [
    "## Use intelligibility from readml"
   ]
  },
  {
   "cell_type": "markdown",
   "metadata": {},
   "source": [
    " **WARNINGS**: Take care of change de config_local.cfg to adapt it to the use case, you may need to re run ```pip install -e .``` after the change in the configuration."
   ]
  },
  {
   "cell_type": "code",
   "execution_count": 12,
   "metadata": {
    "vscode": {
     "languageId": "python"
    }
   },
   "outputs": [],
   "source": [
    "model_explain = rf # The model you use\n",
    "task = \"regression\" # here we try to solve a regression problem\n",
    "tree_based_model = True # if you use a tree based model\n",
    "features_name = list(X_train.columns) # all the features without de target column\n",
    "features_to_interpret = features_name # the features on which you want to make intelligibility\n",
    "target_col = list(y_train.columns)[0] # the tagets columns\n",
    "out_path = \"../outputs/notebooks/\" # the path where you want to save the report\n",
    "os.makedirs(os.path.join(ROOT_DIR, out_path))"
   ]
  },
  {
   "cell_type": "code",
   "execution_count": 13,
   "metadata": {
    "vscode": {
     "languageId": "python"
    }
   },
   "outputs": [
    {
     "name": "stderr",
     "output_type": "stream",
     "text": [
      "\u001b[1m \u001b[32m 2022-04-06 11:44:30,287 --- readml --- INFO --- Directory created ./outputs/ \u001b[0m\n",
      "\u001b[1m \u001b[32m 2022-04-06 11:44:30,305 --- readml --- INFO --- Directory created ./outputs/local_interpretation \u001b[0m\n",
      "\u001b[1m \u001b[32m 2022-04-06 11:44:30,320 --- readml --- INFO --- Directory created ./outputs/global_interpretation \u001b[0m\n"
     ]
    }
   ],
   "source": [
    "exp = ExplainML(\n",
    "        model=model_explain,\n",
    "        task_name=task, \n",
    "        tree_based_model=tree_based_model,\n",
    "        features_name=features_name,\n",
    "        features_to_interpret=features_to_interpret,\n",
    "        target_col=target_col,\n",
    "        out_path=out_path,\n",
    "    )"
   ]
  },
  {
   "cell_type": "code",
   "execution_count": 14,
   "metadata": {
    "vscode": {
     "languageId": "python"
    }
   },
   "outputs": [
    {
     "name": "stderr",
     "output_type": "stream",
     "text": [
      "\u001b[1m \u001b[32m 2022-04-06 11:44:32,380 --- readml --- INFO --- Computing ALE\u001b[0m\n",
      "\u001b[1m \u001b[32m 2022-04-06 11:44:33,412 --- readml --- INFO --- Saving ALE plots in ./outputs/global_interpretation\u001b[0m\n"
     ]
    }
   ],
   "source": [
    "exp.global_ale(df_train) # you need to use the dataframe with features and target into "
   ]
  },
  {
   "cell_type": "code",
   "execution_count": 15,
   "metadata": {
    "vscode": {
     "languageId": "python"
    }
   },
   "outputs": [
    {
     "name": "stderr",
     "output_type": "stream",
     "text": [
      "\u001b[1m \u001b[32m 2022-04-06 11:44:33,610 --- readml --- INFO --- Computing PDP & ice\u001b[0m\n",
      "\u001b[1m \u001b[32m 2022-04-06 11:44:38,458 --- readml --- INFO --- Saving PD plots in ./outputs/global_interpretation\u001b[0m\n",
      "\u001b[1m \u001b[32m 2022-04-06 11:44:38,620 --- readml --- INFO --- Saving ICE plots in ./outputs/global_interpretation\u001b[0m\n"
     ]
    }
   ],
   "source": [
    "exp.global_pdp_ice(df_train) "
   ]
  },
  {
   "cell_type": "code",
   "execution_count": 16,
   "metadata": {
    "vscode": {
     "languageId": "python"
    }
   },
   "outputs": [
    {
     "name": "stderr",
     "output_type": "stream",
     "text": [
      "\u001b[1m \u001b[32m 2022-04-06 11:44:38,789 --- readml --- INFO --- Computing SHAP\u001b[0m\n",
      "\u001b[1m \u001b[32m 2022-04-06 11:44:38,791 --- readml --- INFO --- You are using a tree based model, if it's not the case, please set tree_based_model to False in config/config_{type_env}.cfg\u001b[0m\n",
      "\u001b[1m \u001b[32m 2022-04-06 11:44:39,237 --- readml --- INFO --- Saving SHAP plots in ./outputs/global_interpretation\u001b[0m\n"
     ]
    },
    {
     "data": {
      "image/png": "[encoded data removed]",
      "text/plain": [
       "<Figure size 576x338.4 with 1 Axes>"
      ]
     },
     "metadata": {
      "needs_background": "light"
     },
     "output_type": "display_data"
    },
    {
     "data": {
      "image/png": "[encoded data removed]",
      "text/plain": [
       "<Figure size 576x338.4 with 2 Axes>"
      ]
     },
     "metadata": {
      "needs_background": "light"
     },
     "output_type": "display_data"
    }
   ],
   "source": [
    "exp.global_shap(df_train) "
   ]
  },
  {
   "cell_type": "code",
   "execution_count": 17,
   "metadata": {
    "vscode": {
     "languageId": "python"
    }
   },
   "outputs": [
    {
     "name": "stderr",
     "output_type": "stream",
     "text": [
      "\u001b[1m \u001b[32m 2022-04-06 11:44:39,963 --- readml --- INFO --- You are using a tree based model, if it's not the case, please set tree_based_model to False in config/config_{type_env}.cfg\u001b[0m\n",
      "\u001b[1m \u001b[32m 2022-04-06 11:44:39,971 --- readml --- INFO --- Computing SHAP individual plots for 1th observation\u001b[0m\n",
      "\u001b[1m \u001b[32m 2022-04-06 11:44:39,975 --- readml --- INFO --- Computing SHAP individual plots for 2th observation\u001b[0m\n",
      "\u001b[1m \u001b[32m 2022-04-06 11:44:39,979 --- readml --- INFO --- Computing SHAP individual plots for 3th observation\u001b[0m\n",
      "\u001b[1m \u001b[32m 2022-04-06 11:44:39,981 --- readml --- INFO --- Computing SHAP individual plots for 4th observation\u001b[0m\n",
      "\u001b[1m \u001b[32m 2022-04-06 11:44:39,984 --- readml --- INFO --- Computing SHAP individual plots for 5th observation\u001b[0m\n",
      "\u001b[1m \u001b[32m 2022-04-06 11:44:39,986 --- readml --- INFO --- Saving SHAP individual plots for 1th observation in {self.out_path_local}\u001b[0m\n",
      "\u001b[1m \u001b[32m 2022-04-06 11:44:40,003 --- readml --- INFO --- Saving SHAP individual plots for 2th observation in {self.out_path_local}\u001b[0m\n",
      "\u001b[1m \u001b[32m 2022-04-06 11:44:40,018 --- readml --- INFO --- Saving SHAP individual plots for 3th observation in {self.out_path_local}\u001b[0m\n",
      "\u001b[1m \u001b[32m 2022-04-06 11:44:40,032 --- readml --- INFO --- Saving SHAP individual plots for 4th observation in {self.out_path_local}\u001b[0m\n",
      "\u001b[1m \u001b[32m 2022-04-06 11:44:40,044 --- readml --- INFO --- Saving SHAP individual plots for 5th observation in {self.out_path_local}\u001b[0m\n"
     ]
    }
   ],
   "source": [
    "exp.local_shap(df_test.head()) # be careful it will produce one output by rows  "
   ]
  },
  {
   "cell_type": "code",
   "execution_count": null,
   "metadata": {},
   "outputs": [],
   "source": []
  }
 ],
 "metadata": {
  "kernelspec": {
   "display_name": "Python 3",
   "language": "python",
   "name": "python3"
  },
  "language_info": {
   "codemirror_mode": {
    "name": "ipython",
    "version": 3
   },
   "file_extension": ".py",
   "mimetype": "text/x-python",
   "name": "python",
   "nbconvert_exporter": "python",
   "pygments_lexer": "ipython3",
   "version": "3.7.3"
  }
 },
 "nbformat": 4,
 "nbformat_minor": 4
}
